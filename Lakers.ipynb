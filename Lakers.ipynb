{
 "cells": [
  {
   "cell_type": "code",
   "execution_count": 1,
   "metadata": {},
   "outputs": [],
   "source": [
    "import pandas as pd"
   ]
  },
  {
   "cell_type": "code",
   "execution_count": 2,
   "metadata": {},
   "outputs": [],
   "source": [
    "url = \"https://www.basketball-reference.com/teams/LAL/\"\n",
    "tables = pd.read_html(url, header=0)\n",
    "data_frame = tables[0]"
   ]
  },
  {
   "cell_type": "code",
   "execution_count": 3,
   "metadata": {},
   "outputs": [
    {
     "name": "stdout",
     "output_type": "stream",
     "text": [
      "3\n",
      "0.039473684210526314\n"
     ]
    }
   ],
   "source": [
    "data_frame\n",
    "won_playoffs = data_frame['Playoffs'] == 'Won Finals'\n",
    "total_wins = 0\n",
    "for value in data_frame.loc[0:20, 'Playoffs']:\n",
    "    if value == 'Won Finals':\n",
    "        total_wins = total_wins + 1\n",
    "\n",
    "print(total_wins)\n",
    "percentage = total_wins / 76\n",
    "print(percentage)"
   ]
  }
 ],
 "metadata": {
  "kernelspec": {
   "display_name": "Python 3",
   "language": "python",
   "name": "python3"
  },
  "language_info": {
   "codemirror_mode": {
    "name": "ipython",
    "version": 3
   },
   "file_extension": ".py",
   "mimetype": "text/x-python",
   "name": "python",
   "nbconvert_exporter": "python",
   "pygments_lexer": "ipython3",
   "version": "3.11.4"
  },
  "orig_nbformat": 4
 },
 "nbformat": 4,
 "nbformat_minor": 2
}
